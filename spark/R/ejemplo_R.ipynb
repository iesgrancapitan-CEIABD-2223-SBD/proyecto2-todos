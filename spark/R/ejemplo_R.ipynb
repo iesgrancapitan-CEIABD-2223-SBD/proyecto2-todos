{
 "cells": [
  {
   "cell_type": "code",
   "execution_count": null,
   "id": "17e24eab-23ef-4769-87bc-59228be98354",
   "metadata": {
    "tags": []
   },
   "outputs": [],
   "source": [
    "# cargamos librerias\n",
    "\n",
    "library(ggplot2)\n",
    "library(readr) \n",
    "library(rpart) # arboles de regresion\n",
    "library(randomForest) # f random forests\n",
    "library(heatmaply)\n",
    "\n",
    "# cargamos el csv\n",
    "\n",
    "melbourne_data_raw <- read_csv(\"/opt/workspace/melb_data.csv\", show_col_types=FALSE)"
   ]
  },
  {
   "cell_type": "code",
   "execution_count": null,
   "id": "3f6dd3f0-6a58-477e-8ee4-d33951a64cd0",
   "metadata": {
    "tags": []
   },
   "outputs": [],
   "source": [
    "sessionInfo()"
   ]
  },
  {
   "cell_type": "code",
   "execution_count": null,
   "id": "6cb3b3c0-4856-4cc9-b5ba-371d5c3fd52d",
   "metadata": {
    "tags": []
   },
   "outputs": [],
   "source": [
    "# vemos que ha cargado el csv viendo el nombre de las columnas.\n",
    "\n",
    "melbourne_data_raw\n",
    "names(melbourne_data_raw)\n"
   ]
  },
  {
   "cell_type": "code",
   "execution_count": null,
   "id": "4c5cdc42-8489-43a9-aeb9-4f3b090d7605",
   "metadata": {
    "tags": []
   },
   "outputs": [],
   "source": [
    "# mostramos las estadísticas básicas de cada columna\n",
    "\n",
    "summary(melbourne_data_raw)"
   ]
  },
  {
   "cell_type": "code",
   "execution_count": null,
   "id": "7c0853dc-ab2f-47f9-9303-5a9a00e507ac",
   "metadata": {
    "tags": []
   },
   "outputs": [],
   "source": [
    "# vemos los tipos de datos\n",
    "\n",
    "str(melbourne_data_raw)\n",
    "\n"
   ]
  },
  {
   "cell_type": "code",
   "execution_count": null,
   "id": "980a2f6b-d89e-45fd-ba8b-f4bcfb08d4cf",
   "metadata": {},
   "outputs": [],
   "source": [
    "# vemos mapa de calor con el dataset que viene con r, como ejemplo\n",
    "\n",
    "heatmaply(mtcars)\n",
    "\n"
   ]
  },
  {
   "cell_type": "code",
   "execution_count": null,
   "id": "5674ab06-88c4-4769-a3ea-b5b0e420f21c",
   "metadata": {
    "tags": []
   },
   "outputs": [],
   "source": [
    "# filtramos algunas columnas que no vamos a usar inicialmente\n",
    "\n",
    "melbourne_data_filtered1 = subset(melbourne_data_raw, select = -c(Suburb,Address,Method,SellerG,Date,Distance,CouncilArea,Type,Lattitude,Longtitude,Regionname,Propertycount,Postcode,YearBuilt,...1))\n",
    "melbourne_data_filtered1"
   ]
  },
  {
   "cell_type": "code",
   "execution_count": null,
   "id": "c40170aa-c3dc-4a66-9195-ea358a9b88ba",
   "metadata": {
    "tags": []
   },
   "outputs": [],
   "source": [
    "nrow(melbourne_data_filtered1)"
   ]
  },
  {
   "cell_type": "code",
   "execution_count": null,
   "id": "c23a14dc-6f0f-4b5d-b977-802286ff6886",
   "metadata": {
    "tags": []
   },
   "outputs": [],
   "source": [
    "# Ahora hacemos tratamiento de los datos\n",
    "\n",
    "# Prueba 1. Eliminamos todos las filas que tegan alguno como NA\n",
    "\n"
   ]
  },
  {
   "cell_type": "code",
   "execution_count": null,
   "id": "0af3b7ce-7056-4c61-a011-f2e49226bd09",
   "metadata": {},
   "outputs": [],
   "source": [
    "# Prueba 2. Añadimos valores adecuados a los campos con NA"
   ]
  },
  {
   "cell_type": "raw",
   "id": "809549c8-6bc7-48ae-b40f-f62add1eb8c8",
   "metadata": {},
   "source": [
    "Referencias:\n",
    "- https://cran.r-project.org/web/packages/heatmaply/vignettes/heatmaply.html"
   ]
  },
  {
   "cell_type": "code",
   "execution_count": null,
   "id": "00928fc5-cc9a-4767-86f3-9753181a4ff6",
   "metadata": {},
   "outputs": [],
   "source": []
  }
 ],
 "metadata": {
  "kernelspec": {
   "display_name": "R",
   "language": "R",
   "name": "ir"
  },
  "language_info": {
   "codemirror_mode": "r",
   "file_extension": ".r",
   "mimetype": "text/x-r-source",
   "name": "R",
   "pygments_lexer": "r",
   "version": "4.0.4"
  }
 },
 "nbformat": 4,
 "nbformat_minor": 5
}
