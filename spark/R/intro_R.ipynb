{
 "cells": [
  {
   "cell_type": "markdown",
   "id": "35d9ff5b-586d-49f4-a176-abe25b747939",
   "metadata": {},
   "source": [
    "# Estructuras de Datos en R"
   ]
  },
  {
   "cell_type": "markdown",
   "id": "4a86ecb7-f433-45c3-8cfe-cf2b4d81970f",
   "metadata": {},
   "source": [
    " ## Vectores(vectors):  lista de elementos del mismo tipo de dato\n",
    " \n",
    " La función c() combina valores en una lista o vector"
   ]
  },
  {
   "cell_type": "code",
   "execution_count": null,
   "id": "b591b181-1a2c-4bf0-bc73-16473a979c7d",
   "metadata": {},
   "outputs": [],
   "source": [
    "fruits <- c(\"banana\", \"apple\", \"orange\")\n",
    "numbers <- 1:10\n",
    "\n",
    "length(fruits) "
   ]
  },
  {
   "cell_type": "markdown",
   "id": "3d7a41d0-ba5c-45d8-bf25-eb4d0ee7f4c0",
   "metadata": {},
   "source": [
    "## Listas (lists): "
   ]
  },
  {
   "cell_type": "code",
   "execution_count": null,
   "id": "c6868858-4357-4e1a-a53c-07f840991897",
   "metadata": {},
   "outputs": [],
   "source": [
    "thislist <- list(\"apple\", \"banana\", \"cherry\")\n",
    "thislist[1] <- \"blackcurrant\"\n",
    "\n",
    "\"apple\" %in% thislist \n",
    "\n",
    "append(thislist, \"orange\") \n",
    "\n",
    "# quitamos elementos\n",
    "\n",
    "newlist <- thislist[-1]\n",
    "\n",
    "# nos quedamos con un trozo del array desde el elemnto con indice 1, y cogemos un total de 2\n",
    "(thislist)[1:2] 1\n",
    "\n",
    "# podemos hacer loop por la lista\n",
    "\n",
    "for (x in thislist) {\n",
    "  print(x)\n",
    "} \n",
    "\n",
    "# se pueden unir listas\n",
    "\n",
    "list1 <- list(\"a\", \"b\", \"c\")\n",
    "list2 <- list(1,2,3)\n",
    "list3 <- c(list1,list2)"
   ]
  },
  {
   "cell_type": "markdown",
   "id": "5628c607-d4df-4ff9-9e49-cde14da25dcb",
   "metadata": {},
   "source": [
    "## Matrices: un dataset de dos dimensiones"
   ]
  },
  {
   "cell_type": "code",
   "execution_count": null,
   "id": "32947a26-6318-4159-bf70-b2c4694fe597",
   "metadata": {
    "tags": []
   },
   "outputs": [],
   "source": [
    "thismatrix <- matrix(c(1,2,3,4,5,6), nrow = 3, ncol = 2) # se pueden crear con strings.\n",
    "thismatrix\n",
    "\n",
    "# acceso a algun elemento\n",
    "\n",
    "thismatrix[1, 2]\n",
    "\n",
    "# accceso a una fila completa\n",
    "\n",
    "thismatrix[2,]\n"
   ]
  },
  {
   "cell_type": "markdown",
   "id": "376d350c-6a52-41ea-b228-bb1fe9a4fe37",
   "metadata": {},
   "source": [
    "## Arrays: matrices multidimensionales"
   ]
  },
  {
   "cell_type": "code",
   "execution_count": null,
   "id": "e2e08e1e-3b1e-4e38-83fa-c3364a20a8ad",
   "metadata": {
    "tags": []
   },
   "outputs": [],
   "source": [
    "thisarray <- c(1:24)\n",
    "\n",
    "# Access all the items from the first row from matrix one\n",
    "\n",
    "multiarray <- array(thisarray, dim = c(4, 3, 2))\n",
    "multiarray[c(1),,1]\n",
    "\n",
    "# Access all the items from the first column from matrix one\n",
    "\n",
    "multiarray <- array(thisarray, dim = c(4, 3, 2))\n",
    "multiarray[,c(1),1] \n",
    "\n"
   ]
  },
  {
   "cell_type": "code",
   "execution_count": null,
   "id": "ccc6f533-5a99-4efd-9d49-5986754899f0",
   "metadata": {},
   "outputs": [],
   "source": []
  },
  {
   "cell_type": "markdown",
   "id": "c03eddc2-7312-481a-abbf-6c945e13b627",
   "metadata": {},
   "source": [
    "## Dataframe"
   ]
  },
  {
   "cell_type": "code",
   "execution_count": null,
   "id": "323186c2-84b5-490b-bcea-0ecc5d8ff444",
   "metadata": {
    "tags": []
   },
   "outputs": [],
   "source": [
    "# Create a data frame\n",
    "Data_Frame <- data.frame (\n",
    "  Training = c(\"Strength\", \"Stamina\", \"Other\"),\n",
    "  Pulse = c(100, 150, 120),\n",
    "  Duration = c(60, 30, 45)\n",
    ")\n",
    "\n",
    "# Print the data frame\n",
    "Data_Frame \n",
    "\n",
    "summary(Data_Frame) \n",
    "\n",
    "\n",
    "# acceso a las columnas del dataframe, 3 modos\n",
    "\n",
    "Data_Frame[1]\n",
    "\n",
    "Data_Frame[[\"Training\"]]\n",
    "\n",
    "Data_Frame$Training \n"
   ]
  },
  {
   "cell_type": "code",
   "execution_count": null,
   "id": "ce9d6b94-ae5e-4e68-8d9a-6b71991e4d1b",
   "metadata": {
    "tags": []
   },
   "outputs": [],
   "source": [
    "# podemos añadir filas   rbind ( row bind ), esto también permite unir dataframes\n",
    "\n",
    "New_row_DF <- rbind(Data_Frame, c(\"Strength\", 110, 110))\n",
    "\n",
    "New_row_DF"
   ]
  },
  {
   "cell_type": "code",
   "execution_count": null,
   "id": "032d1479-ee5e-4fb8-9d5b-5311257ae5fa",
   "metadata": {},
   "outputs": [],
   "source": [
    "# podemos añadir columnas cbind ( column bind )\n",
    "\n",
    "New_col_DF <- cbind(Data_Frame, Steps = c(1000, 6000, 2000))\n",
    "\n",
    "New_col_DF\n",
    "\n",
    "# el tamaño del dataframe\n",
    "\n",
    "dim(New_col_DF)"
   ]
  },
  {
   "cell_type": "code",
   "execution_count": null,
   "id": "c793c27b-c429-49fe-9925-168b5138a5e2",
   "metadata": {},
   "outputs": [],
   "source": [
    "# se pueden borrar filas y columnas del dataframe\n",
    "\n",
    "Data_Frame_New <- Data_Frame[-c(1), -c(1)]\n",
    "\n",
    "Data_Frame_New \n"
   ]
  },
  {
   "cell_type": "markdown",
   "id": "e455d95a-9882-48e8-bc2a-0fd4a6ca6e78",
   "metadata": {},
   "source": [
    "## Factors"
   ]
  },
  {
   "cell_type": "markdown",
   "id": "f6d77879-cf3f-4fea-af18-3347731492cc",
   "metadata": {},
   "source": [
    "# Funciones"
   ]
  },
  {
   "cell_type": "code",
   "execution_count": null,
   "id": "8cb4a75f-7e96-4bbf-a7a4-a67006312f30",
   "metadata": {
    "tags": []
   },
   "outputs": [],
   "source": [
    "# ponemos un ejemplo\n",
    "\n",
    "circumference <- function(r){\n",
    "    2*pi*r\n",
    "}\n",
    "print(circumference(2))"
   ]
  },
  {
   "cell_type": "markdown",
   "id": "8c3e065c-988d-4c24-a222-0d1501bd4fb2",
   "metadata": {},
   "source": [
    "# Gráficos"
   ]
  },
  {
   "cell_type": "markdown",
   "id": "5fcc15d1-fbdb-49a8-b54e-e731f765b973",
   "metadata": {},
   "source": [
    "## Lineas y Scatter plots"
   ]
  },
  {
   "cell_type": "code",
   "execution_count": null,
   "id": "8ff9d11c-5114-4812-8ce5-844f81e03c4f",
   "metadata": {
    "tags": []
   },
   "outputs": [],
   "source": [
    "# la funcion plot dibuja puntos\n",
    "# dibujamos un punto en x=1 e y=3\n",
    "plot(1, 3) \n",
    "\n",
    "# dibujamos dos puntos\n",
    "\n",
    "plot(c(1, 8), c(3, 10)) \n",
    "\n",
    "\n",
    "# lineas, modo 1\n",
    "\n",
    "plot(1:10, type=\"l\") \n",
    "\n",
    "\n",
    "line1 <- c(1,2,3,4,5,10)\n",
    "line2 <- c(2,5,7,8,9,10)\n",
    "\n",
    "plot(line1, type = \"l\", col = \"blue\")\n",
    "lines(line2, type=\"l\", col = \"red\")   # no funciona si hay dos lines --FIXME--\n",
    "\n",
    "\n",
    "# los scatters son representaciones de puntos para comparar\n",
    "\n",
    "# day one, the age and speed of 12 cars:\n",
    "x1 <- c(5,7,8,7,2,2,9,4,11,12,9,6)\n",
    "y1 <- c(99,86,87,88,111,103,87,94,78,77,85,86)\n",
    "\n",
    "# day two, the age and speed of 15 cars:\n",
    "x2 <- c(2,2,8,1,15,8,12,9,7,3,11,4,7,14,12)\n",
    "y2 <- c(100,105,84,105,90,99,90,95,94,100,79,112,91,80,85)\n",
    "\n",
    "plot(x1, y1, main=\"Observation of Cars\", xlab=\"Car age\", ylab=\"Car speed\", col=\"red\", cex=2)\n",
    "\n",
    "# se usa la funcion points\n",
    "\n",
    "points(x2, y2, col=\"blue\", cex=2) \n"
   ]
  },
  {
   "cell_type": "markdown",
   "id": "9b8948ec-3bd1-4a44-9f7a-096e0f694bd9",
   "metadata": {},
   "source": [
    "## Pie Charts"
   ]
  },
  {
   "cell_type": "code",
   "execution_count": null,
   "id": "09491bdd-f810-4636-965d-60e1a7af84d8",
   "metadata": {},
   "outputs": [],
   "source": [
    "# Create a vector of pies\n",
    "x <- c(10,20,30,40)\n",
    "\n",
    "# Display the pie chart\n",
    "pie(x) "
   ]
  },
  {
   "cell_type": "markdown",
   "id": "12920252-e5e6-4afc-aa80-1e43232aa61e",
   "metadata": {},
   "source": [
    "## de barras"
   ]
  },
  {
   "cell_type": "code",
   "execution_count": null,
   "id": "61c52f00-6b29-47e0-ae42-d3aaaac59777",
   "metadata": {},
   "outputs": [],
   "source": [
    "# x-axis values\n",
    "x <- c(\"A\", \"B\", \"C\", \"D\")\n",
    "\n",
    "# y-axis values\n",
    "y <- c(2, 4, 6, 8)\n",
    "\n",
    "barplot(y, names.arg = x) "
   ]
  },
  {
   "cell_type": "markdown",
   "id": "611ca271-9495-44fe-9843-9c44abcee3dc",
   "metadata": {},
   "source": [
    "# Estadísticas\n",
    "\n"
   ]
  },
  {
   "cell_type": "code",
   "execution_count": null,
   "id": "dda4353f-5777-49c6-b7d5-b80c0a8f1695",
   "metadata": {
    "tags": []
   },
   "outputs": [],
   "source": [
    "# por defecto tenemos el dataframe mtcars\n",
    "\n",
    "mtcars"
   ]
  },
  {
   "cell_type": "code",
   "execution_count": null,
   "id": "065fc954-ab13-4824-86db-4d063231db94",
   "metadata": {},
   "outputs": [],
   "source": [
    "# para ver la información sobre el dataset\n",
    "\n",
    "?mtcars "
   ]
  },
  {
   "cell_type": "code",
   "execution_count": null,
   "id": "cfc69c6b-99b3-497f-b251-793b1a35bc40",
   "metadata": {},
   "outputs": [],
   "source": [
    "# si queremos encontrar el máximo y el mínimo de los datos de una columna ( busqueda de outliners )\n",
    "\n",
    "Data_cars <- mtcars\n",
    "\n",
    "max(Data_Cars$hp)\n",
    "min(Data_Cars$hp)\n",
    "\n",
    "# si queremos que nos diga el índice de la fila para localizar\n",
    "\n",
    "which.max(Data_Cars$hp)\n",
    "which.min(Data_Cars$hp) \n",
    "\n",
    "\n",
    "rownames(Data_Cars)[which.max(Data_Cars$hp)]\n",
    "rownames(Data_Cars)[which.min(Data_Cars$hp)] \n",
    "\n"
   ]
  },
  {
   "cell_type": "markdown",
   "id": "993b4dda-9859-4c37-8f4a-3e0be8f4c4cb",
   "metadata": {},
   "source": [
    "### media, mediana y moda (mean,median,mode)"
   ]
  },
  {
   "cell_type": "code",
   "execution_count": null,
   "id": "cbdc2de0-47f2-441f-8503-63aa60625f55",
   "metadata": {},
   "outputs": [],
   "source": [
    "mean(Data_Cars$wt) \n",
    "median(Data_Cars$wt) \n",
    "mode(Data_Cars$wt) "
   ]
  },
  {
   "cell_type": "markdown",
   "id": "611a2b46-3060-41a0-ac61-6bea0dbee226",
   "metadata": {},
   "source": [
    "### cuartiles\n"
   ]
  },
  {
   "cell_type": "code",
   "execution_count": null,
   "id": "1666d195-af6d-4899-abcd-e1b6bfb97ffb",
   "metadata": {
    "tags": []
   },
   "outputs": [],
   "source": [
    "# recordemos\n",
    "# cuartil Q1: aquel valor tal que es mayor que el 25% del total de valaores\n",
    "\n",
    "Data_Cars <- mtcars\n",
    "\n",
    "#  el tercer cuartil\n",
    "quantile(Data_Cars$wt, c(0.25))\n",
    "\n",
    "# todos los cuartiles\n",
    "quantile(Data_Cars$wt)"
   ]
  },
  {
   "cell_type": "markdown",
   "id": "6c9746d4-2e9f-48e2-b95b-bb7dbc5f7bb0",
   "metadata": {},
   "source": [
    "# Referencias\n",
    "\n",
    "- https://www.r-project.org/  ( página oficial )\n",
    "- https://cran.rediris.es/  ( descarga del R editor desde mirror en España en Rediris )\n",
    "- https://www.dataquest.io/blog/install-package-r/  ( cómo instalar paquetes )\n",
    "- https://www.w3schools.com/r/default.asp"
   ]
  }
 ],
 "metadata": {
  "kernelspec": {
   "display_name": "R",
   "language": "R",
   "name": "ir"
  },
  "language_info": {
   "codemirror_mode": "r",
   "file_extension": ".r",
   "mimetype": "text/x-r-source",
   "name": "R",
   "pygments_lexer": "r",
   "version": "4.0.4"
  }
 },
 "nbformat": 4,
 "nbformat_minor": 5
}
