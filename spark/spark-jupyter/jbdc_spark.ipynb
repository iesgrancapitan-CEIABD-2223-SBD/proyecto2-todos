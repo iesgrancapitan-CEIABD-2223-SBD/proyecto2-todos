{
 "cells": [
  {
   "cell_type": "raw",
   "id": "ecba317a-26f5-4e88-9fd3-42091a703ca6",
   "metadata": {},
   "source": [
    "Creamos la sesión:"
   ]
  },
  {
   "cell_type": "code",
   "execution_count": 3,
   "id": "84c7a838-3543-403e-910d-6ecc6c8d37bd",
   "metadata": {},
   "outputs": [],
   "source": [
    "from pyspark.sql import SparkSession\n",
    "\n",
    "\n",
    "# Create SparkSession\n",
    "spark = SparkSession.builder \\\n",
    "          .config(\"spark.jars\", \"/opt/workspace/mysql-connector-j-8.0.33.jar\") \\\n",
    "          .appName('SparkByExamples.com') \\\n",
    "          .getOrCreate()"
   ]
  },
  {
   "cell_type": "markdown",
   "id": "5fd499d8-5077-4802-a446-800246cb9905",
   "metadata": {},
   "source": [
    "Ahora hacemos la conexión, donde pone \"Chinook\" es el nombre que tengáis vosotros para la base de datos.\n",
    "La ip de conexión que he puesto es la de la máquina virtual en Virtualbox, donde tengo instalado Docker. Atentos a la vuestra.\n",
    "Atención al nombre del driver.\n",
    "Cargamos para probar la tabla Invoice entera.\n",
    "La conexión no está definida como paralelizable. Así que uno de los workers se conectará y obtendrá los datos y generará el DataFrame"
   ]
  },
  {
   "cell_type": "code",
   "execution_count": 5,
   "id": "84db6977-af12-4b53-9c19-8846d3bc368d",
   "metadata": {
    "tags": []
   },
   "outputs": [],
   "source": [
    "jdbcDF = spark.read \\\n",
    "  .format(\"jdbc\") \\\n",
    "  .option(\"url\", \"jdbc:mysql://192.168.56.30:3306/Chinook\") \\\n",
    "  .option(\"user\", \"root\") \\\n",
    "  .option(\"password\", \"mysql\") \\\n",
    "  .option(\"driver\", \"com.mysql.cj.jdbc.Driver\") \\\n",
    "  .option(\"dbtable\",\"Invoice\") \\\n",
    "  .load()"
   ]
  },
  {
   "cell_type": "raw",
   "id": "72d345df-668d-401d-b335-882c2a4c61da",
   "metadata": {},
   "source": [
    "Mostramos el schema tal y como lo ve el driver y Spark. Para ver si cambian los tipos de datos de la bbdd al DataFrame. Ojo a esto en casos reales."
   ]
  },
  {
   "cell_type": "code",
   "execution_count": 6,
   "id": "8ae79b1d-27ac-4d94-aed0-68449c3619ce",
   "metadata": {},
   "outputs": [
    {
     "name": "stdout",
     "output_type": "stream",
     "text": [
      "root\n",
      " |-- InvoiceId: integer (nullable = true)\n",
      " |-- CustomerId: integer (nullable = true)\n",
      " |-- InvoiceDate: timestamp (nullable = true)\n",
      " |-- BillingAddress: string (nullable = true)\n",
      " |-- BillingCity: string (nullable = true)\n",
      " |-- BillingState: string (nullable = true)\n",
      " |-- BillingCountry: string (nullable = true)\n",
      " |-- BillingPostalCode: string (nullable = true)\n",
      " |-- Total: decimal(10,2) (nullable = true)\n",
      "\n"
     ]
    }
   ],
   "source": [
    "jdbcDF.printSchema()"
   ]
  },
  {
   "cell_type": "raw",
   "id": "97aa72b7-c92a-4959-ab70-0221874e80d5",
   "metadata": {},
   "source": [
    "Mostramos el contenido del DataFrame."
   ]
  },
  {
   "cell_type": "code",
   "execution_count": 7,
   "id": "f53bdae9-c9de-4329-b71f-8bb3f7186b64",
   "metadata": {},
   "outputs": [
    {
     "name": "stderr",
     "output_type": "stream",
     "text": [
      "[Stage 0:>                                                          (0 + 1) / 1]\r"
     ]
    },
    {
     "name": "stdout",
     "output_type": "stream",
     "text": [
      "+---------+----------+-------------------+--------------------+--------------+------------+--------------+-----------------+-----+\n",
      "|InvoiceId|CustomerId|        InvoiceDate|      BillingAddress|   BillingCity|BillingState|BillingCountry|BillingPostalCode|Total|\n",
      "+---------+----------+-------------------+--------------------+--------------+------------+--------------+-----------------+-----+\n",
      "|        1|         2|2009-01-01 00:00:00|Theodor-Heuss-Str...|     Stuttgart|        null|       Germany|            70174| 1.98|\n",
      "|        2|         4|2009-01-02 00:00:00|    Ullevålsveien 14|          Oslo|        null|        Norway|             0171| 3.96|\n",
      "|        3|         8|2009-01-03 00:00:00|     Grétrystraat 63|      Brussels|        null|       Belgium|             1000| 5.94|\n",
      "|        4|        14|2009-01-06 00:00:00|      8210 111 ST NW|      Edmonton|          AB|        Canada|          T6G 2C7| 8.91|\n",
      "|        5|        23|2009-01-11 00:00:00|     69 Salem Street|        Boston|          MA|           USA|             2113|13.86|\n",
      "|        6|        37|2009-01-19 00:00:00|    Berger Straße 10|     Frankfurt|        null|       Germany|            60316| 0.99|\n",
      "|        7|        38|2009-02-01 00:00:00| Barbarossastraße 19|        Berlin|        null|       Germany|            10779| 1.98|\n",
      "|        8|        40|2009-02-01 00:00:00|      8, Rue Hanovre|         Paris|        null|        France|            75002| 1.98|\n",
      "|        9|        42|2009-02-02 00:00:00|9, Place Louis Ba...|      Bordeaux|        null|        France|            33000| 3.96|\n",
      "|       10|        46|2009-02-03 00:00:00|    3 Chatham Street|        Dublin|      Dublin|       Ireland|             null| 5.94|\n",
      "|       11|        52|2009-02-06 00:00:00|   202 Hoxton Street|        London|        null|United Kingdom|           N1 5LH| 8.91|\n",
      "|       12|         2|2009-02-11 00:00:00|Theodor-Heuss-Str...|     Stuttgart|        null|       Germany|            70174|13.86|\n",
      "|       13|        16|2009-02-19 00:00:00|1600 Amphitheatre...| Mountain View|          CA|           USA|       94043-1351| 0.99|\n",
      "|       14|        17|2009-03-04 00:00:00|     1 Microsoft Way|       Redmond|          WA|           USA|       98052-8300| 1.98|\n",
      "|       15|        19|2009-03-04 00:00:00|     1 Infinite Loop|     Cupertino|          CA|           USA|            95014| 1.98|\n",
      "|       16|        21|2009-03-05 00:00:00|    801 W 4th Street|          Reno|          NV|           USA|            89503| 3.96|\n",
      "|       17|        25|2009-03-06 00:00:00|319 N. Frances St...|       Madison|          WI|           USA|            53703| 5.94|\n",
      "|       18|        31|2009-03-09 00:00:00|194A Chain Lake D...|       Halifax|          NS|        Canada|          B3S 1C5| 8.91|\n",
      "|       19|        40|2009-03-14 00:00:00|      8, Rue Hanovre|         Paris|        null|        France|            75002|13.86|\n",
      "|       20|        54|2009-03-22 00:00:00|      110 Raeburn Pl|    Edinburgh |        null|United Kingdom|          EH4 1HH| 0.99|\n",
      "|       21|        55|2009-04-04 00:00:00|   421 Bourke Street|        Sidney|         NSW|     Australia|             2010| 1.98|\n",
      "|       22|        57|2009-04-04 00:00:00|     Calle Lira, 198|      Santiago|        null|         Chile|             null| 1.98|\n",
      "|       23|        59|2009-04-05 00:00:00|   3,Raj Bhavan Road|     Bangalore|        null|         India|           560001| 3.96|\n",
      "|       24|         4|2009-04-06 00:00:00|    Ullevålsveien 14|          Oslo|        null|        Norway|             0171| 5.94|\n",
      "|       25|        10|2009-04-09 00:00:00|Rua Dr. Falcão Fi...|     São Paulo|          SP|        Brazil|        01007-010| 8.91|\n",
      "|       26|        19|2009-04-14 00:00:00|     1 Infinite Loop|     Cupertino|          CA|           USA|            95014|13.86|\n",
      "|       27|        33|2009-04-22 00:00:00|      5112 48 Street|   Yellowknife|          NT|        Canada|          X1A 1N6| 0.99|\n",
      "|       28|        34|2009-05-05 00:00:00|  Rua da Assunção 53|        Lisbon|        null|      Portugal|             null| 1.98|\n",
      "|       29|        36|2009-05-05 00:00:00|  Tauentzienstraße 8|        Berlin|        null|       Germany|            10789| 1.98|\n",
      "|       30|        38|2009-05-06 00:00:00| Barbarossastraße 19|        Berlin|        null|       Germany|            10779| 3.96|\n",
      "|       31|        42|2009-05-07 00:00:00|9, Place Louis Ba...|      Bordeaux|        null|        France|            33000| 5.94|\n",
      "|       32|        48|2009-05-10 00:00:00|Lijnbaansgracht 1...|     Amsterdam|          VV|   Netherlands|             1016| 8.91|\n",
      "|       33|        57|2009-05-15 00:00:00|     Calle Lira, 198|      Santiago|        null|         Chile|             null|13.86|\n",
      "|       34|        12|2009-05-23 00:00:00|    Praça Pio X, 119|Rio de Janeiro|          RJ|        Brazil|        20040-020| 0.99|\n",
      "|       35|        13|2009-06-05 00:00:00|        Qe 7 Bloco G|      Brasília|          DF|        Brazil|        71020-677| 1.98|\n",
      "|       36|        15|2009-06-05 00:00:00| 700 W Pender Street|     Vancouver|          BC|        Canada|          V6C 1G8| 1.98|\n",
      "|       37|        17|2009-06-06 00:00:00|     1 Microsoft Way|       Redmond|          WA|           USA|       98052-8300| 3.96|\n",
      "|       38|        21|2009-06-07 00:00:00|    801 W 4th Street|          Reno|          NV|           USA|            89503| 5.94|\n",
      "|       39|        27|2009-06-10 00:00:00|     1033 N Park Ave|        Tucson|          AZ|           USA|            85719| 8.91|\n",
      "|       40|        36|2009-06-15 00:00:00|  Tauentzienstraße 8|        Berlin|        null|       Germany|            10789|13.86|\n",
      "+---------+----------+-------------------+--------------------+--------------+------------+--------------+-----------------+-----+\n",
      "only showing top 40 rows\n",
      "\n"
     ]
    },
    {
     "name": "stderr",
     "output_type": "stream",
     "text": [
      "                                                                                \r"
     ]
    }
   ],
   "source": [
    "jdbcDF.show(n=40)"
   ]
  },
  {
   "cell_type": "code",
   "execution_count": null,
   "id": "081e8e57-0fef-45e1-b749-bb7c25f429e8",
   "metadata": {},
   "outputs": [],
   "source": []
  }
 ],
 "metadata": {
  "kernelspec": {
   "display_name": "Python 3 (ipykernel)",
   "language": "python",
   "name": "python3"
  },
  "language_info": {
   "codemirror_mode": {
    "name": "ipython",
    "version": 3
   },
   "file_extension": ".py",
   "mimetype": "text/x-python",
   "name": "python",
   "nbconvert_exporter": "python",
   "pygments_lexer": "ipython3",
   "version": "3.9.2"
  }
 },
 "nbformat": 4,
 "nbformat_minor": 5
}
