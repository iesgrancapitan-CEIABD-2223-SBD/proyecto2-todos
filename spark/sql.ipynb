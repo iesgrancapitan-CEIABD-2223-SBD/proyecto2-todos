{
 "cells": [
  {
   "cell_type": "code",
   "execution_count": 4,
   "id": "8333e13e-b888-4c70-ade4-013d9b0dda6c",
   "metadata": {},
   "outputs": [],
   "source": [
    "from pySpark import SparkContext, SparkConf"
   ]
  },
  {
   "cell_type": "code",
   "execution_count": 8,
   "id": "bb13ce28-4e89-40ab-8fc1-929b2f433a23",
   "metadata": {},
   "outputs": [
    {
     "ename": "NameError",
     "evalue": "name 'SparkConf' is not defined",
     "output_type": "error",
     "traceback": [
      "\u001b[0;31m---------------------------------------------------------------------------\u001b[0m",
      "\u001b[0;31mNameError\u001b[0m                                 Traceback (most recent call last)",
      "Cell \u001b[0;32mIn[8], line 1\u001b[0m\n\u001b[0;32m----> 1\u001b[0m conf \u001b[38;5;241m=\u001b[39m \u001b[43mSparkConf\u001b[49m()\u001b[38;5;241m.\u001b[39msetMaster(\u001b[38;5;124m\"\u001b[39m\u001b[38;5;124mspark://spark-master:7077\u001b[39m\u001b[38;5;124m\"\u001b[39m)\u001b[38;5;241m.\u001b[39mSetAppName(\u001b[38;5;124m\"\u001b[39m\u001b[38;5;124mtest\u001b[39m\u001b[38;5;124m\"\u001b[39m)\u001b[38;5;241m.\u001b[39mset(\u001b[38;5;124m\"\u001b[39m\u001b[38;5;124mspark.executor.memory\u001b[39m\u001b[38;5;124m\"\u001b[39m,\u001b[38;5;124m\"\u001b[39m\u001b[38;5;124m128m\u001b[39m\u001b[38;5;124m\"\u001b[39m)\n\u001b[1;32m      2\u001b[0m sc \u001b[38;5;241m=\u001b[39m SparkContext()\u001b[38;5;241m.\u001b[39mgetOrCreate(conf\u001b[38;5;241m=\u001b[39mconf) \n\u001b[1;32m      3\u001b[0m sc \n",
      "\u001b[0;31mNameError\u001b[0m: name 'SparkConf' is not defined"
     ]
    }
   ],
   "source": [
    "conf = SparkConf().setMaster(\"spark://spark-master:7077\").SetAppName(\"test\").set(\"spark.executor.memory\",\"128m\")\n",
    "sc = SparkContext().getOrCreate(conf=conf) \n",
    "sc "
   ]
  },
  {
   "cell_type": "code",
   "execution_count": null,
   "id": "814674de-a0e7-4e91-97d0-5de80dad15d9",
   "metadata": {},
   "outputs": [],
   "source": []
  }
 ],
 "metadata": {
  "kernelspec": {
   "display_name": "Python 3 (ipykernel)",
   "language": "python",
   "name": "python3"
  },
  "language_info": {
   "codemirror_mode": {
    "name": "ipython",
    "version": 3
   },
   "file_extension": ".py",
   "mimetype": "text/x-python",
   "name": "python",
   "nbconvert_exporter": "python",
   "pygments_lexer": "ipython3",
   "version": "3.9.2"
  }
 },
 "nbformat": 4,
 "nbformat_minor": 5
}
