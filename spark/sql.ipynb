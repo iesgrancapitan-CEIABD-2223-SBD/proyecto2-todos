{
 "cells": [
  {
   "cell_type": "code",
   "execution_count": 4,
   "id": "8333e13e-b888-4c70-ade4-013d9b0dda6c",
   "metadata": {},
   "outputs": [],
   "source": [
    "from pySpark import SparkContext, SparkConf"
   ]
  },
  {
   "cell_type": "code",
   "execution_count": null,
   "id": "bb13ce28-4e89-40ab-8fc1-929b2f433a23",
   "metadata": {},
   "outputs": [],
   "source": [
    "conf = SparkConf().setMaster(\"spark://spark-master:7077\").SetAppName(\"test\").set(\"spark.executor.memory, \"128m\")\n",
    "sc = SparkContext().getOrCreate(conf=conf) \n",
    "sc "
   ]
  }
 ],
 "metadata": {
  "kernelspec": {
   "display_name": "Python 3 (ipykernel)",
   "language": "python",
   "name": "python3"
  },
  "language_info": {
   "codemirror_mode": {
    "name": "ipython",
    "version": 3
   },
   "file_extension": ".py",
   "mimetype": "text/x-python",
   "name": "python",
   "nbconvert_exporter": "python",
   "pygments_lexer": "ipython3",
   "version": "3.9.2"
  }
 },
 "nbformat": 4,
 "nbformat_minor": 5
}
